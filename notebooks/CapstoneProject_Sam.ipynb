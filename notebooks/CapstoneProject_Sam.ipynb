{
 "cells": [
  {
   "cell_type": "code",
   "execution_count": 1,
   "id": "f26cda65",
   "metadata": {},
   "outputs": [],
   "source": [
    "import numpy as np\n",
    "import pandas as pd\n",
    "import matplotlib.pyplot as plt"
   ]
  },
  {
   "cell_type": "markdown",
   "id": "09e5f0c2",
   "metadata": {},
   "source": [
    "# Personal Notebook for Capstone Project"
   ]
  },
  {
   "cell_type": "markdown",
   "id": "83be41da",
   "metadata": {},
   "source": [
    "## Dataframe overview"
   ]
  },
  {
   "cell_type": "code",
   "execution_count": 2,
   "id": "c340c00e",
   "metadata": {},
   "outputs": [
    {
     "data": {
      "text/html": [
       "<div>\n",
       "<style scoped>\n",
       "    .dataframe tbody tr th:only-of-type {\n",
       "        vertical-align: middle;\n",
       "    }\n",
       "\n",
       "    .dataframe tbody tr th {\n",
       "        vertical-align: top;\n",
       "    }\n",
       "\n",
       "    .dataframe thead th {\n",
       "        text-align: right;\n",
       "    }\n",
       "</style>\n",
       "<table border=\"1\" class=\"dataframe\">\n",
       "  <thead>\n",
       "    <tr style=\"text-align: right;\">\n",
       "      <th></th>\n",
       "      <th>om</th>\n",
       "      <th>year</th>\n",
       "      <th>month</th>\n",
       "      <th>day</th>\n",
       "      <th>date</th>\n",
       "      <th>time</th>\n",
       "      <th>time_zone</th>\n",
       "      <th>state</th>\n",
       "      <th>stf</th>\n",
       "      <th>state_number</th>\n",
       "      <th>...</th>\n",
       "      <th>fatalities</th>\n",
       "      <th>property_loss</th>\n",
       "      <th>crop_loss</th>\n",
       "      <th>slat</th>\n",
       "      <th>slon</th>\n",
       "      <th>elat</th>\n",
       "      <th>elon</th>\n",
       "      <th>length</th>\n",
       "      <th>width</th>\n",
       "      <th>estimated_f</th>\n",
       "    </tr>\n",
       "  </thead>\n",
       "  <tbody>\n",
       "    <tr>\n",
       "      <th>0</th>\n",
       "      <td>1</td>\n",
       "      <td>1950</td>\n",
       "      <td>1</td>\n",
       "      <td>3</td>\n",
       "      <td>1/3/1950</td>\n",
       "      <td>11:00:00</td>\n",
       "      <td>3</td>\n",
       "      <td>MO</td>\n",
       "      <td>29</td>\n",
       "      <td>1</td>\n",
       "      <td>...</td>\n",
       "      <td>0</td>\n",
       "      <td>6.0</td>\n",
       "      <td>0.0</td>\n",
       "      <td>38.77</td>\n",
       "      <td>-90.22</td>\n",
       "      <td>38.83</td>\n",
       "      <td>-90.03</td>\n",
       "      <td>9.5</td>\n",
       "      <td>150</td>\n",
       "      <td>0</td>\n",
       "    </tr>\n",
       "    <tr>\n",
       "      <th>1</th>\n",
       "      <td>2</td>\n",
       "      <td>1950</td>\n",
       "      <td>1</td>\n",
       "      <td>3</td>\n",
       "      <td>1/3/1950</td>\n",
       "      <td>11:55:00</td>\n",
       "      <td>3</td>\n",
       "      <td>IL</td>\n",
       "      <td>17</td>\n",
       "      <td>2</td>\n",
       "      <td>...</td>\n",
       "      <td>0</td>\n",
       "      <td>5.0</td>\n",
       "      <td>0.0</td>\n",
       "      <td>39.10</td>\n",
       "      <td>-89.30</td>\n",
       "      <td>39.12</td>\n",
       "      <td>-89.23</td>\n",
       "      <td>3.6</td>\n",
       "      <td>130</td>\n",
       "      <td>0</td>\n",
       "    </tr>\n",
       "    <tr>\n",
       "      <th>2</th>\n",
       "      <td>3</td>\n",
       "      <td>1950</td>\n",
       "      <td>1</td>\n",
       "      <td>3</td>\n",
       "      <td>1/3/1950</td>\n",
       "      <td>16:00:00</td>\n",
       "      <td>3</td>\n",
       "      <td>OH</td>\n",
       "      <td>39</td>\n",
       "      <td>1</td>\n",
       "      <td>...</td>\n",
       "      <td>0</td>\n",
       "      <td>4.0</td>\n",
       "      <td>0.0</td>\n",
       "      <td>40.88</td>\n",
       "      <td>-84.58</td>\n",
       "      <td>0.00</td>\n",
       "      <td>0.00</td>\n",
       "      <td>0.1</td>\n",
       "      <td>10</td>\n",
       "      <td>0</td>\n",
       "    </tr>\n",
       "    <tr>\n",
       "      <th>3</th>\n",
       "      <td>4</td>\n",
       "      <td>1950</td>\n",
       "      <td>1</td>\n",
       "      <td>13</td>\n",
       "      <td>1/13/1950</td>\n",
       "      <td>5:25:00</td>\n",
       "      <td>3</td>\n",
       "      <td>AR</td>\n",
       "      <td>5</td>\n",
       "      <td>1</td>\n",
       "      <td>...</td>\n",
       "      <td>1</td>\n",
       "      <td>3.0</td>\n",
       "      <td>0.0</td>\n",
       "      <td>34.40</td>\n",
       "      <td>-94.37</td>\n",
       "      <td>0.00</td>\n",
       "      <td>0.00</td>\n",
       "      <td>0.6</td>\n",
       "      <td>17</td>\n",
       "      <td>0</td>\n",
       "    </tr>\n",
       "    <tr>\n",
       "      <th>4</th>\n",
       "      <td>5</td>\n",
       "      <td>1950</td>\n",
       "      <td>1</td>\n",
       "      <td>25</td>\n",
       "      <td>1/25/1950</td>\n",
       "      <td>19:30:00</td>\n",
       "      <td>3</td>\n",
       "      <td>MO</td>\n",
       "      <td>29</td>\n",
       "      <td>2</td>\n",
       "      <td>...</td>\n",
       "      <td>0</td>\n",
       "      <td>5.0</td>\n",
       "      <td>0.0</td>\n",
       "      <td>37.60</td>\n",
       "      <td>-90.68</td>\n",
       "      <td>37.63</td>\n",
       "      <td>-90.65</td>\n",
       "      <td>2.3</td>\n",
       "      <td>300</td>\n",
       "      <td>0</td>\n",
       "    </tr>\n",
       "  </tbody>\n",
       "</table>\n",
       "<p>5 rows × 22 columns</p>\n",
       "</div>"
      ],
      "text/plain": [
       "   om  year  month  day       date      time  time_zone state  stf  \\\n",
       "0   1  1950      1    3   1/3/1950  11:00:00          3    MO   29   \n",
       "1   2  1950      1    3   1/3/1950  11:55:00          3    IL   17   \n",
       "2   3  1950      1    3   1/3/1950  16:00:00          3    OH   39   \n",
       "3   4  1950      1   13  1/13/1950   5:25:00          3    AR    5   \n",
       "4   5  1950      1   25  1/25/1950  19:30:00          3    MO   29   \n",
       "\n",
       "   state_number  ...  fatalities  property_loss  crop_loss   slat   slon  \\\n",
       "0             1  ...           0            6.0        0.0  38.77 -90.22   \n",
       "1             2  ...           0            5.0        0.0  39.10 -89.30   \n",
       "2             1  ...           0            4.0        0.0  40.88 -84.58   \n",
       "3             1  ...           1            3.0        0.0  34.40 -94.37   \n",
       "4             2  ...           0            5.0        0.0  37.60 -90.68   \n",
       "\n",
       "    elat   elon  length  width  estimated_f  \n",
       "0  38.83 -90.03     9.5    150            0  \n",
       "1  39.12 -89.23     3.6    130            0  \n",
       "2   0.00   0.00     0.1     10            0  \n",
       "3   0.00   0.00     0.6     17            0  \n",
       "4  37.63 -90.65     2.3    300            0  \n",
       "\n",
       "[5 rows x 22 columns]"
      ]
     },
     "execution_count": 2,
     "metadata": {},
     "output_type": "execute_result"
    }
   ],
   "source": [
    "dd = pd.read_csv('/Users/samuel/Documents/Spring Semester 2022/Capstone Project/Tornadoes_SPC_1950to2015.csv')\n",
    "dd.head()"
   ]
  },
  {
   "cell_type": "code",
   "execution_count": 3,
   "id": "dbdb8961",
   "metadata": {},
   "outputs": [
    {
     "data": {
      "text/html": [
       "<div>\n",
       "<style scoped>\n",
       "    .dataframe tbody tr th:only-of-type {\n",
       "        vertical-align: middle;\n",
       "    }\n",
       "\n",
       "    .dataframe tbody tr th {\n",
       "        vertical-align: top;\n",
       "    }\n",
       "\n",
       "    .dataframe thead th {\n",
       "        text-align: right;\n",
       "    }\n",
       "</style>\n",
       "<table border=\"1\" class=\"dataframe\">\n",
       "  <thead>\n",
       "    <tr style=\"text-align: right;\">\n",
       "      <th></th>\n",
       "      <th>om</th>\n",
       "      <th>year</th>\n",
       "      <th>month</th>\n",
       "      <th>day</th>\n",
       "      <th>time_zone</th>\n",
       "      <th>stf</th>\n",
       "      <th>state_number</th>\n",
       "      <th>F_Scale</th>\n",
       "      <th>injuries</th>\n",
       "      <th>fatalities</th>\n",
       "      <th>property_loss</th>\n",
       "      <th>crop_loss</th>\n",
       "      <th>slat</th>\n",
       "      <th>slon</th>\n",
       "      <th>elat</th>\n",
       "      <th>elon</th>\n",
       "      <th>length</th>\n",
       "      <th>width</th>\n",
       "      <th>estimated_f</th>\n",
       "    </tr>\n",
       "  </thead>\n",
       "  <tbody>\n",
       "    <tr>\n",
       "      <th>count</th>\n",
       "      <td>60114.000000</td>\n",
       "      <td>60114.000000</td>\n",
       "      <td>60114.000000</td>\n",
       "      <td>60114.000000</td>\n",
       "      <td>60114.000000</td>\n",
       "      <td>60114.000000</td>\n",
       "      <td>60114.000000</td>\n",
       "      <td>60114.000000</td>\n",
       "      <td>60114.000000</td>\n",
       "      <td>60114.000000</td>\n",
       "      <td>60114.000000</td>\n",
       "      <td>60114.000000</td>\n",
       "      <td>60114.000000</td>\n",
       "      <td>60114.000000</td>\n",
       "      <td>60114.000000</td>\n",
       "      <td>60114.000000</td>\n",
       "      <td>60114.000000</td>\n",
       "      <td>60114.000000</td>\n",
       "      <td>60114.000000</td>\n",
       "    </tr>\n",
       "    <tr>\n",
       "      <th>mean</th>\n",
       "      <td>41119.375753</td>\n",
       "      <td>1987.970057</td>\n",
       "      <td>5.972436</td>\n",
       "      <td>15.876368</td>\n",
       "      <td>3.001098</td>\n",
       "      <td>29.419919</td>\n",
       "      <td>26.476228</td>\n",
       "      <td>0.796154</td>\n",
       "      <td>1.561300</td>\n",
       "      <td>0.096866</td>\n",
       "      <td>2.159312</td>\n",
       "      <td>0.002134</td>\n",
       "      <td>37.155205</td>\n",
       "      <td>-92.961133</td>\n",
       "      <td>20.956247</td>\n",
       "      <td>-51.902893</td>\n",
       "      <td>3.480720</td>\n",
       "      <td>98.454603</td>\n",
       "      <td>0.030991</td>\n",
       "    </tr>\n",
       "    <tr>\n",
       "      <th>std</th>\n",
       "      <td>130865.993631</td>\n",
       "      <td>17.787883</td>\n",
       "      <td>2.388809</td>\n",
       "      <td>8.737193</td>\n",
       "      <td>0.077379</td>\n",
       "      <td>15.018850</td>\n",
       "      <td>32.672650</td>\n",
       "      <td>0.912341</td>\n",
       "      <td>19.177704</td>\n",
       "      <td>1.546215</td>\n",
       "      <td>20.284680</td>\n",
       "      <td>0.122182</td>\n",
       "      <td>5.123449</td>\n",
       "      <td>8.719121</td>\n",
       "      <td>18.890353</td>\n",
       "      <td>46.322703</td>\n",
       "      <td>8.519328</td>\n",
       "      <td>195.726277</td>\n",
       "      <td>0.173295</td>\n",
       "    </tr>\n",
       "    <tr>\n",
       "      <th>min</th>\n",
       "      <td>1.000000</td>\n",
       "      <td>1950.000000</td>\n",
       "      <td>1.000000</td>\n",
       "      <td>1.000000</td>\n",
       "      <td>0.000000</td>\n",
       "      <td>1.000000</td>\n",
       "      <td>0.000000</td>\n",
       "      <td>0.000000</td>\n",
       "      <td>0.000000</td>\n",
       "      <td>0.000000</td>\n",
       "      <td>0.000000</td>\n",
       "      <td>0.000000</td>\n",
       "      <td>18.130000</td>\n",
       "      <td>-163.530000</td>\n",
       "      <td>0.000000</td>\n",
       "      <td>-163.530000</td>\n",
       "      <td>0.000000</td>\n",
       "      <td>0.000000</td>\n",
       "      <td>0.000000</td>\n",
       "    </tr>\n",
       "    <tr>\n",
       "      <th>25%</th>\n",
       "      <td>248.000000</td>\n",
       "      <td>1974.000000</td>\n",
       "      <td>4.000000</td>\n",
       "      <td>8.000000</td>\n",
       "      <td>3.000000</td>\n",
       "      <td>18.000000</td>\n",
       "      <td>4.000000</td>\n",
       "      <td>0.000000</td>\n",
       "      <td>0.000000</td>\n",
       "      <td>0.000000</td>\n",
       "      <td>0.000000</td>\n",
       "      <td>0.000000</td>\n",
       "      <td>33.240000</td>\n",
       "      <td>-98.600000</td>\n",
       "      <td>0.000000</td>\n",
       "      <td>-94.250000</td>\n",
       "      <td>0.100000</td>\n",
       "      <td>13.000000</td>\n",
       "      <td>0.000000</td>\n",
       "    </tr>\n",
       "    <tr>\n",
       "      <th>50%</th>\n",
       "      <td>509.000000</td>\n",
       "      <td>1991.000000</td>\n",
       "      <td>6.000000</td>\n",
       "      <td>16.000000</td>\n",
       "      <td>3.000000</td>\n",
       "      <td>29.000000</td>\n",
       "      <td>15.000000</td>\n",
       "      <td>1.000000</td>\n",
       "      <td>0.000000</td>\n",
       "      <td>0.000000</td>\n",
       "      <td>0.100000</td>\n",
       "      <td>0.000000</td>\n",
       "      <td>37.085000</td>\n",
       "      <td>-93.950000</td>\n",
       "      <td>31.200000</td>\n",
       "      <td>-81.765000</td>\n",
       "      <td>0.600000</td>\n",
       "      <td>40.000000</td>\n",
       "      <td>0.000000</td>\n",
       "    </tr>\n",
       "    <tr>\n",
       "      <th>75%</th>\n",
       "      <td>845.000000</td>\n",
       "      <td>2003.000000</td>\n",
       "      <td>7.000000</td>\n",
       "      <td>24.000000</td>\n",
       "      <td>3.000000</td>\n",
       "      <td>45.000000</td>\n",
       "      <td>35.000000</td>\n",
       "      <td>1.000000</td>\n",
       "      <td>0.000000</td>\n",
       "      <td>0.000000</td>\n",
       "      <td>4.000000</td>\n",
       "      <td>0.000000</td>\n",
       "      <td>40.970000</td>\n",
       "      <td>-86.870000</td>\n",
       "      <td>38.150000</td>\n",
       "      <td>0.000000</td>\n",
       "      <td>3.000000</td>\n",
       "      <td>100.000000</td>\n",
       "      <td>0.000000</td>\n",
       "    </tr>\n",
       "    <tr>\n",
       "      <th>max</th>\n",
       "      <td>613494.000000</td>\n",
       "      <td>2015.000000</td>\n",
       "      <td>12.000000</td>\n",
       "      <td>31.000000</td>\n",
       "      <td>9.000000</td>\n",
       "      <td>72.000000</td>\n",
       "      <td>232.000000</td>\n",
       "      <td>5.000000</td>\n",
       "      <td>1740.000000</td>\n",
       "      <td>158.000000</td>\n",
       "      <td>2800.100000</td>\n",
       "      <td>23.520000</td>\n",
       "      <td>61.020000</td>\n",
       "      <td>-64.900000</td>\n",
       "      <td>61.020000</td>\n",
       "      <td>0.000000</td>\n",
       "      <td>234.700000</td>\n",
       "      <td>4576.000000</td>\n",
       "      <td>1.000000</td>\n",
       "    </tr>\n",
       "  </tbody>\n",
       "</table>\n",
       "</div>"
      ],
      "text/plain": [
       "                  om          year         month           day     time_zone  \\\n",
       "count   60114.000000  60114.000000  60114.000000  60114.000000  60114.000000   \n",
       "mean    41119.375753   1987.970057      5.972436     15.876368      3.001098   \n",
       "std    130865.993631     17.787883      2.388809      8.737193      0.077379   \n",
       "min         1.000000   1950.000000      1.000000      1.000000      0.000000   \n",
       "25%       248.000000   1974.000000      4.000000      8.000000      3.000000   \n",
       "50%       509.000000   1991.000000      6.000000     16.000000      3.000000   \n",
       "75%       845.000000   2003.000000      7.000000     24.000000      3.000000   \n",
       "max    613494.000000   2015.000000     12.000000     31.000000      9.000000   \n",
       "\n",
       "                stf  state_number       F_Scale      injuries    fatalities  \\\n",
       "count  60114.000000  60114.000000  60114.000000  60114.000000  60114.000000   \n",
       "mean      29.419919     26.476228      0.796154      1.561300      0.096866   \n",
       "std       15.018850     32.672650      0.912341     19.177704      1.546215   \n",
       "min        1.000000      0.000000      0.000000      0.000000      0.000000   \n",
       "25%       18.000000      4.000000      0.000000      0.000000      0.000000   \n",
       "50%       29.000000     15.000000      1.000000      0.000000      0.000000   \n",
       "75%       45.000000     35.000000      1.000000      0.000000      0.000000   \n",
       "max       72.000000    232.000000      5.000000   1740.000000    158.000000   \n",
       "\n",
       "       property_loss     crop_loss          slat          slon          elat  \\\n",
       "count   60114.000000  60114.000000  60114.000000  60114.000000  60114.000000   \n",
       "mean        2.159312      0.002134     37.155205    -92.961133     20.956247   \n",
       "std        20.284680      0.122182      5.123449      8.719121     18.890353   \n",
       "min         0.000000      0.000000     18.130000   -163.530000      0.000000   \n",
       "25%         0.000000      0.000000     33.240000    -98.600000      0.000000   \n",
       "50%         0.100000      0.000000     37.085000    -93.950000     31.200000   \n",
       "75%         4.000000      0.000000     40.970000    -86.870000     38.150000   \n",
       "max      2800.100000     23.520000     61.020000    -64.900000     61.020000   \n",
       "\n",
       "               elon        length         width   estimated_f  \n",
       "count  60114.000000  60114.000000  60114.000000  60114.000000  \n",
       "mean     -51.902893      3.480720     98.454603      0.030991  \n",
       "std       46.322703      8.519328    195.726277      0.173295  \n",
       "min     -163.530000      0.000000      0.000000      0.000000  \n",
       "25%      -94.250000      0.100000     13.000000      0.000000  \n",
       "50%      -81.765000      0.600000     40.000000      0.000000  \n",
       "75%        0.000000      3.000000    100.000000      0.000000  \n",
       "max        0.000000    234.700000   4576.000000      1.000000  "
      ]
     },
     "execution_count": 3,
     "metadata": {},
     "output_type": "execute_result"
    }
   ],
   "source": [
    "dd.describe()"
   ]
  },
  {
   "cell_type": "code",
   "execution_count": 4,
   "id": "386ecb0a",
   "metadata": {},
   "outputs": [
    {
     "data": {
      "text/plain": [
       "(60114, 22)"
      ]
     },
     "execution_count": 4,
     "metadata": {},
     "output_type": "execute_result"
    }
   ],
   "source": [
    "dd.shape"
   ]
  },
  {
   "cell_type": "markdown",
   "id": "61f7158e",
   "metadata": {},
   "source": [
    "## Hypothesis 2 "
   ]
  },
  {
   "cell_type": "markdown",
   "id": "f84f4a56",
   "metadata": {},
   "source": [
    "### Property loss damage/Fatalities will continues to rise due to more frequent tornados"
   ]
  },
  {
   "cell_type": "code",
   "execution_count": 11,
   "id": "2357b635",
   "metadata": {},
   "outputs": [
    {
     "data": {
      "text/html": [
       "<div>\n",
       "<style scoped>\n",
       "    .dataframe tbody tr th:only-of-type {\n",
       "        vertical-align: middle;\n",
       "    }\n",
       "\n",
       "    .dataframe tbody tr th {\n",
       "        vertical-align: top;\n",
       "    }\n",
       "\n",
       "    .dataframe thead th {\n",
       "        text-align: right;\n",
       "    }\n",
       "</style>\n",
       "<table border=\"1\" class=\"dataframe\">\n",
       "  <thead>\n",
       "    <tr style=\"text-align: right;\">\n",
       "      <th></th>\n",
       "      <th>injuries</th>\n",
       "      <th>fatalities</th>\n",
       "      <th>property_loss</th>\n",
       "      <th>crop_loss</th>\n",
       "      <th>year</th>\n",
       "    </tr>\n",
       "  </thead>\n",
       "  <tbody>\n",
       "    <tr>\n",
       "      <th>0</th>\n",
       "      <td>3</td>\n",
       "      <td>0</td>\n",
       "      <td>6.00</td>\n",
       "      <td>0.0</td>\n",
       "      <td>1950</td>\n",
       "    </tr>\n",
       "    <tr>\n",
       "      <th>1</th>\n",
       "      <td>3</td>\n",
       "      <td>0</td>\n",
       "      <td>5.00</td>\n",
       "      <td>0.0</td>\n",
       "      <td>1950</td>\n",
       "    </tr>\n",
       "    <tr>\n",
       "      <th>2</th>\n",
       "      <td>1</td>\n",
       "      <td>0</td>\n",
       "      <td>4.00</td>\n",
       "      <td>0.0</td>\n",
       "      <td>1950</td>\n",
       "    </tr>\n",
       "    <tr>\n",
       "      <th>3</th>\n",
       "      <td>1</td>\n",
       "      <td>1</td>\n",
       "      <td>3.00</td>\n",
       "      <td>0.0</td>\n",
       "      <td>1950</td>\n",
       "    </tr>\n",
       "    <tr>\n",
       "      <th>4</th>\n",
       "      <td>5</td>\n",
       "      <td>0</td>\n",
       "      <td>5.00</td>\n",
       "      <td>0.0</td>\n",
       "      <td>1950</td>\n",
       "    </tr>\n",
       "    <tr>\n",
       "      <th>...</th>\n",
       "      <td>...</td>\n",
       "      <td>...</td>\n",
       "      <td>...</td>\n",
       "      <td>...</td>\n",
       "      <td>...</td>\n",
       "    </tr>\n",
       "    <tr>\n",
       "      <th>60109</th>\n",
       "      <td>0</td>\n",
       "      <td>0</td>\n",
       "      <td>0.00</td>\n",
       "      <td>0.0</td>\n",
       "      <td>2015</td>\n",
       "    </tr>\n",
       "    <tr>\n",
       "      <th>60110</th>\n",
       "      <td>0</td>\n",
       "      <td>0</td>\n",
       "      <td>0.05</td>\n",
       "      <td>0.0</td>\n",
       "      <td>2015</td>\n",
       "    </tr>\n",
       "    <tr>\n",
       "      <th>60111</th>\n",
       "      <td>0</td>\n",
       "      <td>0</td>\n",
       "      <td>0.10</td>\n",
       "      <td>0.0</td>\n",
       "      <td>2015</td>\n",
       "    </tr>\n",
       "    <tr>\n",
       "      <th>60112</th>\n",
       "      <td>0</td>\n",
       "      <td>0</td>\n",
       "      <td>0.01</td>\n",
       "      <td>0.0</td>\n",
       "      <td>2015</td>\n",
       "    </tr>\n",
       "    <tr>\n",
       "      <th>60113</th>\n",
       "      <td>0</td>\n",
       "      <td>0</td>\n",
       "      <td>0.05</td>\n",
       "      <td>0.0</td>\n",
       "      <td>2015</td>\n",
       "    </tr>\n",
       "  </tbody>\n",
       "</table>\n",
       "<p>60114 rows × 5 columns</p>\n",
       "</div>"
      ],
      "text/plain": [
       "       injuries  fatalities  property_loss  crop_loss  year\n",
       "0             3           0           6.00        0.0  1950\n",
       "1             3           0           5.00        0.0  1950\n",
       "2             1           0           4.00        0.0  1950\n",
       "3             1           1           3.00        0.0  1950\n",
       "4             5           0           5.00        0.0  1950\n",
       "...         ...         ...            ...        ...   ...\n",
       "60109         0           0           0.00        0.0  2015\n",
       "60110         0           0           0.05        0.0  2015\n",
       "60111         0           0           0.10        0.0  2015\n",
       "60112         0           0           0.01        0.0  2015\n",
       "60113         0           0           0.05        0.0  2015\n",
       "\n",
       "[60114 rows x 5 columns]"
      ]
     },
     "execution_count": 11,
     "metadata": {},
     "output_type": "execute_result"
    }
   ],
   "source": [
    "hypo_2 = dd.filter(items =['injuries', 'fatalities', 'property_loss', 'crop_loss', 'year'])\n",
    "hypo_2"
   ]
  },
  {
   "cell_type": "markdown",
   "id": "576c20b6",
   "metadata": {},
   "source": [
    "#### Showing mean and standard deviation of each column"
   ]
  },
  {
   "cell_type": "code",
   "execution_count": 12,
   "id": "4247b64e",
   "metadata": {},
   "outputs": [
    {
     "data": {
      "text/html": [
       "<div>\n",
       "<style scoped>\n",
       "    .dataframe tbody tr th:only-of-type {\n",
       "        vertical-align: middle;\n",
       "    }\n",
       "\n",
       "    .dataframe tbody tr th {\n",
       "        vertical-align: top;\n",
       "    }\n",
       "\n",
       "    .dataframe thead th {\n",
       "        text-align: right;\n",
       "    }\n",
       "</style>\n",
       "<table border=\"1\" class=\"dataframe\">\n",
       "  <thead>\n",
       "    <tr style=\"text-align: right;\">\n",
       "      <th></th>\n",
       "      <th>injuries</th>\n",
       "      <th>fatalities</th>\n",
       "      <th>property_loss</th>\n",
       "      <th>crop_loss</th>\n",
       "      <th>year</th>\n",
       "    </tr>\n",
       "  </thead>\n",
       "  <tbody>\n",
       "    <tr>\n",
       "      <th>count</th>\n",
       "      <td>60114.000000</td>\n",
       "      <td>60114.000000</td>\n",
       "      <td>60114.000000</td>\n",
       "      <td>60114.000000</td>\n",
       "      <td>60114.000000</td>\n",
       "    </tr>\n",
       "    <tr>\n",
       "      <th>mean</th>\n",
       "      <td>1.561300</td>\n",
       "      <td>0.096866</td>\n",
       "      <td>2.159312</td>\n",
       "      <td>0.002134</td>\n",
       "      <td>1987.970057</td>\n",
       "    </tr>\n",
       "    <tr>\n",
       "      <th>std</th>\n",
       "      <td>19.177704</td>\n",
       "      <td>1.546215</td>\n",
       "      <td>20.284680</td>\n",
       "      <td>0.122182</td>\n",
       "      <td>17.787883</td>\n",
       "    </tr>\n",
       "    <tr>\n",
       "      <th>min</th>\n",
       "      <td>0.000000</td>\n",
       "      <td>0.000000</td>\n",
       "      <td>0.000000</td>\n",
       "      <td>0.000000</td>\n",
       "      <td>1950.000000</td>\n",
       "    </tr>\n",
       "    <tr>\n",
       "      <th>25%</th>\n",
       "      <td>0.000000</td>\n",
       "      <td>0.000000</td>\n",
       "      <td>0.000000</td>\n",
       "      <td>0.000000</td>\n",
       "      <td>1974.000000</td>\n",
       "    </tr>\n",
       "    <tr>\n",
       "      <th>50%</th>\n",
       "      <td>0.000000</td>\n",
       "      <td>0.000000</td>\n",
       "      <td>0.100000</td>\n",
       "      <td>0.000000</td>\n",
       "      <td>1991.000000</td>\n",
       "    </tr>\n",
       "    <tr>\n",
       "      <th>75%</th>\n",
       "      <td>0.000000</td>\n",
       "      <td>0.000000</td>\n",
       "      <td>4.000000</td>\n",
       "      <td>0.000000</td>\n",
       "      <td>2003.000000</td>\n",
       "    </tr>\n",
       "    <tr>\n",
       "      <th>max</th>\n",
       "      <td>1740.000000</td>\n",
       "      <td>158.000000</td>\n",
       "      <td>2800.100000</td>\n",
       "      <td>23.520000</td>\n",
       "      <td>2015.000000</td>\n",
       "    </tr>\n",
       "  </tbody>\n",
       "</table>\n",
       "</div>"
      ],
      "text/plain": [
       "           injuries    fatalities  property_loss     crop_loss          year\n",
       "count  60114.000000  60114.000000   60114.000000  60114.000000  60114.000000\n",
       "mean       1.561300      0.096866       2.159312      0.002134   1987.970057\n",
       "std       19.177704      1.546215      20.284680      0.122182     17.787883\n",
       "min        0.000000      0.000000       0.000000      0.000000   1950.000000\n",
       "25%        0.000000      0.000000       0.000000      0.000000   1974.000000\n",
       "50%        0.000000      0.000000       0.100000      0.000000   1991.000000\n",
       "75%        0.000000      0.000000       4.000000      0.000000   2003.000000\n",
       "max     1740.000000    158.000000    2800.100000     23.520000   2015.000000"
      ]
     },
     "execution_count": 12,
     "metadata": {},
     "output_type": "execute_result"
    }
   ],
   "source": [
    "hypo_2.describe()"
   ]
  },
  {
   "cell_type": "markdown",
   "id": "d86cf4a1",
   "metadata": {},
   "source": [
    "#### Basic scatterplots for each column "
   ]
  },
  {
   "cell_type": "code",
   "execution_count": 13,
   "id": "32417c42",
   "metadata": {},
   "outputs": [
    {
     "data": {
      "text/plain": [
       "<AxesSubplot:title={'center':'Fatalities vs. Year'}, xlabel='year', ylabel='fatalities'>"
      ]
     },
     "execution_count": 13,
     "metadata": {},
     "output_type": "execute_result"
    },
    {
     "data": {
      "image/png": "[encoded data removed]",
      "text/plain": [
       "<Figure size 432x288 with 1 Axes>"
      ]
     },
     "metadata": {
      "needs_background": "light"
     },
     "output_type": "display_data"
    }
   ],
   "source": [
    "hypo_2.plot.scatter(x = 'year', y = 'fatalities', title = 'Fatalities vs. Year')"
   ]
  },
  {
   "cell_type": "code",
   "execution_count": 14,
   "id": "a7c2fc3d",
   "metadata": {},
   "outputs": [
    {
     "data": {
      "text/plain": [
       "<AxesSubplot:title={'center':'Injuries vs. Year'}, xlabel='year', ylabel='injuries'>"
      ]
     },
     "execution_count": 14,
     "metadata": {},
     "output_type": "execute_result"
    },
    {
     "data": {
      "image/png": "[encoded data removed]",
      "text/plain": [
       "<Figure size 432x288 with 1 Axes>"
      ]
     },
     "metadata": {
      "needs_background": "light"
     },
     "output_type": "display_data"
    }
   ],
   "source": [
    "hypo_2.plot.scatter(x = 'year', y = 'injuries', title = 'Injuries vs. Year')"
   ]
  },
  {
   "cell_type": "code",
   "execution_count": 16,
   "id": "de29fb60",
   "metadata": {},
   "outputs": [
    {
     "data": {
      "text/plain": [
       "<AxesSubplot:title={'center':'Property Loss vs. Year'}, xlabel='year', ylabel='property_loss'>"
      ]
     },
     "execution_count": 16,
     "metadata": {},
     "output_type": "execute_result"
    },
    {
     "data": {
      "image/png": "[encoded data removed]",
      "text/plain": [
       "<Figure size 432x288 with 1 Axes>"
      ]
     },
     "metadata": {
      "needs_background": "light"
     },
     "output_type": "display_data"
    }
   ],
   "source": [
    "hypo_2.plot.scatter(x = 'year', y = 'property_loss', title = 'Property Loss vs. Year')"
   ]
  },
  {
   "cell_type": "code",
   "execution_count": 17,
   "id": "adc79304",
   "metadata": {},
   "outputs": [
    {
     "data": {
      "text/plain": [
       "<AxesSubplot:title={'center':'Crop Loss vs. Year'}, xlabel='year', ylabel='crop_loss'>"
      ]
     },
     "execution_count": 17,
     "metadata": {},
     "output_type": "execute_result"
    },
    {
     "data": {
      "image/png": "[encoded data removed]",
      "text/plain": [
       "<Figure size 432x288 with 1 Axes>"
      ]
     },
     "metadata": {
      "needs_background": "light"
     },
     "output_type": "display_data"
    }
   ],
   "source": [
    "hypo_2.plot.scatter(x = 'year', y = 'crop_loss', title = 'Crop Loss vs. Year')"
   ]
  },
  {
   "cell_type": "markdown",
   "id": "424b8531",
   "metadata": {},
   "source": [
    "#### Basic histograms for each column"
   ]
  },
  {
   "cell_type": "code",
   "execution_count": 18,
   "id": "e01aa2a3",
   "metadata": {},
   "outputs": [
    {
     "data": {
      "text/plain": [
       "array([[<AxesSubplot:title={'center':'fatalities'}>]], dtype=object)"
      ]
     },
     "execution_count": 18,
     "metadata": {},
     "output_type": "execute_result"
    },
    {
     "data": {
      "image/png": "[encoded data removed]",
      "text/plain": [
       "<Figure size 432x288 with 1 Axes>"
      ]
     },
     "metadata": {
      "needs_background": "light"
     },
     "output_type": "display_data"
    }
   ],
   "source": [
    "hypo_2.hist(column = \"fatalities\")"
   ]
  },
  {
   "cell_type": "code",
   "execution_count": 19,
   "id": "6bbb019a",
   "metadata": {},
   "outputs": [
    {
     "data": {
      "text/plain": [
       "array([[<AxesSubplot:title={'center':'injuries'}>]], dtype=object)"
      ]
     },
     "execution_count": 19,
     "metadata": {},
     "output_type": "execute_result"
    },
    {
     "data": {
      "image/png": "[encoded data removed]",
      "text/plain": [
       "<Figure size 432x288 with 1 Axes>"
      ]
     },
     "metadata": {
      "needs_background": "light"
     },
     "output_type": "display_data"
    }
   ],
   "source": [
    "hypo_2.hist(column = \"injuries\")"
   ]
  },
  {
   "cell_type": "code",
   "execution_count": 20,
   "id": "9ca34a85",
   "metadata": {},
   "outputs": [
    {
     "data": {
      "text/plain": [
       "array([[<AxesSubplot:title={'center':'property_loss'}>]], dtype=object)"
      ]
     },
     "execution_count": 20,
     "metadata": {},
     "output_type": "execute_result"
    },
    {
     "data": {
      "image/png": "[encoded data removed]",
      "text/plain": [
       "<Figure size 432x288 with 1 Axes>"
      ]
     },
     "metadata": {
      "needs_background": "light"
     },
     "output_type": "display_data"
    }
   ],
   "source": [
    "hypo_2.hist(column = \"property_loss\")"
   ]
  },
  {
   "cell_type": "code",
   "execution_count": 21,
   "id": "f98901c7",
   "metadata": {},
   "outputs": [
    {
     "data": {
      "text/plain": [
       "array([[<AxesSubplot:title={'center':'crop_loss'}>]], dtype=object)"
      ]
     },
     "execution_count": 21,
     "metadata": {},
     "output_type": "execute_result"
    },
    {
     "data": {
      "image/png": "[encoded data removed]",
      "text/plain": [
       "<Figure size 432x288 with 1 Axes>"
      ]
     },
     "metadata": {
      "needs_background": "light"
     },
     "output_type": "display_data"
    }
   ],
   "source": [
    "hypo_2.hist(column = \"crop_loss\")"
   ]
  },
  {
   "cell_type": "code",
   "execution_count": 22,
   "id": "baf45cfd",
   "metadata": {},
   "outputs": [
    {
     "data": {
      "text/plain": [
       "array([[<AxesSubplot:title={'center':'year'}>]], dtype=object)"
      ]
     },
     "execution_count": 22,
     "metadata": {},
     "output_type": "execute_result"
    },
    {
     "data": {
      "image/png": "[encoded data removed]",
      "text/plain": [
       "<Figure size 432x288 with 1 Axes>"
      ]
     },
     "metadata": {
      "needs_background": "light"
     },
     "output_type": "display_data"
    }
   ],
   "source": [
    "hypo_2.hist(column = \"year\")"
   ]
  },
  {
   "cell_type": "markdown",
   "id": "ba0b2a09",
   "metadata": {},
   "source": [
    "## Hypothesis 3 \n",
    "### Longer and wider tornados have been happening more and more in the last 20 years"
   ]
  },
  {
   "cell_type": "code",
   "execution_count": 23,
   "id": "166d5f8c",
   "metadata": {},
   "outputs": [
    {
     "data": {
      "text/html": [
       "<div>\n",
       "<style scoped>\n",
       "    .dataframe tbody tr th:only-of-type {\n",
       "        vertical-align: middle;\n",
       "    }\n",
       "\n",
       "    .dataframe tbody tr th {\n",
       "        vertical-align: top;\n",
       "    }\n",
       "\n",
       "    .dataframe thead th {\n",
       "        text-align: right;\n",
       "    }\n",
       "</style>\n",
       "<table border=\"1\" class=\"dataframe\">\n",
       "  <thead>\n",
       "    <tr style=\"text-align: right;\">\n",
       "      <th></th>\n",
       "      <th>length</th>\n",
       "      <th>width</th>\n",
       "      <th>year</th>\n",
       "    </tr>\n",
       "  </thead>\n",
       "  <tbody>\n",
       "    <tr>\n",
       "      <th>0</th>\n",
       "      <td>9.50</td>\n",
       "      <td>150</td>\n",
       "      <td>1950</td>\n",
       "    </tr>\n",
       "    <tr>\n",
       "      <th>1</th>\n",
       "      <td>3.60</td>\n",
       "      <td>130</td>\n",
       "      <td>1950</td>\n",
       "    </tr>\n",
       "    <tr>\n",
       "      <th>2</th>\n",
       "      <td>0.10</td>\n",
       "      <td>10</td>\n",
       "      <td>1950</td>\n",
       "    </tr>\n",
       "    <tr>\n",
       "      <th>3</th>\n",
       "      <td>0.60</td>\n",
       "      <td>17</td>\n",
       "      <td>1950</td>\n",
       "    </tr>\n",
       "    <tr>\n",
       "      <th>4</th>\n",
       "      <td>2.30</td>\n",
       "      <td>300</td>\n",
       "      <td>1950</td>\n",
       "    </tr>\n",
       "    <tr>\n",
       "      <th>...</th>\n",
       "      <td>...</td>\n",
       "      <td>...</td>\n",
       "      <td>...</td>\n",
       "    </tr>\n",
       "    <tr>\n",
       "      <th>60109</th>\n",
       "      <td>0.60</td>\n",
       "      <td>150</td>\n",
       "      <td>2015</td>\n",
       "    </tr>\n",
       "    <tr>\n",
       "      <th>60110</th>\n",
       "      <td>5.75</td>\n",
       "      <td>40</td>\n",
       "      <td>2015</td>\n",
       "    </tr>\n",
       "    <tr>\n",
       "      <th>60111</th>\n",
       "      <td>5.59</td>\n",
       "      <td>100</td>\n",
       "      <td>2015</td>\n",
       "    </tr>\n",
       "    <tr>\n",
       "      <th>60112</th>\n",
       "      <td>0.78</td>\n",
       "      <td>75</td>\n",
       "      <td>2015</td>\n",
       "    </tr>\n",
       "    <tr>\n",
       "      <th>60113</th>\n",
       "      <td>0.90</td>\n",
       "      <td>75</td>\n",
       "      <td>2015</td>\n",
       "    </tr>\n",
       "  </tbody>\n",
       "</table>\n",
       "<p>60114 rows × 3 columns</p>\n",
       "</div>"
      ],
      "text/plain": [
       "       length  width  year\n",
       "0        9.50    150  1950\n",
       "1        3.60    130  1950\n",
       "2        0.10     10  1950\n",
       "3        0.60     17  1950\n",
       "4        2.30    300  1950\n",
       "...       ...    ...   ...\n",
       "60109    0.60    150  2015\n",
       "60110    5.75     40  2015\n",
       "60111    5.59    100  2015\n",
       "60112    0.78     75  2015\n",
       "60113    0.90     75  2015\n",
       "\n",
       "[60114 rows x 3 columns]"
      ]
     },
     "execution_count": 23,
     "metadata": {},
     "output_type": "execute_result"
    }
   ],
   "source": [
    "hypo_3 = dd.filter(['length', 'width', 'year'])\n",
    "hypo_3"
   ]
  },
  {
   "cell_type": "markdown",
   "id": "4229e012",
   "metadata": {},
   "source": [
    "#### Mean and standard deviation of columns"
   ]
  },
  {
   "cell_type": "code",
   "execution_count": 24,
   "id": "3a7ace0e",
   "metadata": {},
   "outputs": [
    {
     "data": {
      "text/html": [
       "<div>\n",
       "<style scoped>\n",
       "    .dataframe tbody tr th:only-of-type {\n",
       "        vertical-align: middle;\n",
       "    }\n",
       "\n",
       "    .dataframe tbody tr th {\n",
       "        vertical-align: top;\n",
       "    }\n",
       "\n",
       "    .dataframe thead th {\n",
       "        text-align: right;\n",
       "    }\n",
       "</style>\n",
       "<table border=\"1\" class=\"dataframe\">\n",
       "  <thead>\n",
       "    <tr style=\"text-align: right;\">\n",
       "      <th></th>\n",
       "      <th>length</th>\n",
       "      <th>width</th>\n",
       "      <th>year</th>\n",
       "    </tr>\n",
       "  </thead>\n",
       "  <tbody>\n",
       "    <tr>\n",
       "      <th>count</th>\n",
       "      <td>60114.000000</td>\n",
       "      <td>60114.000000</td>\n",
       "      <td>60114.000000</td>\n",
       "    </tr>\n",
       "    <tr>\n",
       "      <th>mean</th>\n",
       "      <td>3.480720</td>\n",
       "      <td>98.454603</td>\n",
       "      <td>1987.970057</td>\n",
       "    </tr>\n",
       "    <tr>\n",
       "      <th>std</th>\n",
       "      <td>8.519328</td>\n",
       "      <td>195.726277</td>\n",
       "      <td>17.787883</td>\n",
       "    </tr>\n",
       "    <tr>\n",
       "      <th>min</th>\n",
       "      <td>0.000000</td>\n",
       "      <td>0.000000</td>\n",
       "      <td>1950.000000</td>\n",
       "    </tr>\n",
       "    <tr>\n",
       "      <th>25%</th>\n",
       "      <td>0.100000</td>\n",
       "      <td>13.000000</td>\n",
       "      <td>1974.000000</td>\n",
       "    </tr>\n",
       "    <tr>\n",
       "      <th>50%</th>\n",
       "      <td>0.600000</td>\n",
       "      <td>40.000000</td>\n",
       "      <td>1991.000000</td>\n",
       "    </tr>\n",
       "    <tr>\n",
       "      <th>75%</th>\n",
       "      <td>3.000000</td>\n",
       "      <td>100.000000</td>\n",
       "      <td>2003.000000</td>\n",
       "    </tr>\n",
       "    <tr>\n",
       "      <th>max</th>\n",
       "      <td>234.700000</td>\n",
       "      <td>4576.000000</td>\n",
       "      <td>2015.000000</td>\n",
       "    </tr>\n",
       "  </tbody>\n",
       "</table>\n",
       "</div>"
      ],
      "text/plain": [
       "             length         width          year\n",
       "count  60114.000000  60114.000000  60114.000000\n",
       "mean       3.480720     98.454603   1987.970057\n",
       "std        8.519328    195.726277     17.787883\n",
       "min        0.000000      0.000000   1950.000000\n",
       "25%        0.100000     13.000000   1974.000000\n",
       "50%        0.600000     40.000000   1991.000000\n",
       "75%        3.000000    100.000000   2003.000000\n",
       "max      234.700000   4576.000000   2015.000000"
      ]
     },
     "execution_count": 24,
     "metadata": {},
     "output_type": "execute_result"
    }
   ],
   "source": [
    "hypo_3.describe()"
   ]
  },
  {
   "cell_type": "markdown",
   "id": "6c5b3eef",
   "metadata": {},
   "source": [
    "#### Basic scatterplots of each column"
   ]
  },
  {
   "cell_type": "code",
   "execution_count": 25,
   "id": "a4592ae6",
   "metadata": {},
   "outputs": [
    {
     "data": {
      "text/plain": [
       "<AxesSubplot:title={'center':'Length vs. Year'}, xlabel='year', ylabel='length'>"
      ]
     },
     "execution_count": 25,
     "metadata": {},
     "output_type": "execute_result"
    },
    {
     "data": {
      "image/png": "[encoded data removed]",
      "text/plain": [
       "<Figure size 432x288 with 1 Axes>"
      ]
     },
     "metadata": {
      "needs_background": "light"
     },
     "output_type": "display_data"
    }
   ],
   "source": [
    "hypo_3.plot.scatter(x = 'year', y = 'length', title = 'Length vs. Year')"
   ]
  },
  {
   "cell_type": "code",
   "execution_count": 26,
   "id": "e19158bb",
   "metadata": {},
   "outputs": [
    {
     "data": {
      "text/plain": [
       "<AxesSubplot:title={'center':'Width vs. Year'}, xlabel='year', ylabel='width'>"
      ]
     },
     "execution_count": 26,
     "metadata": {},
     "output_type": "execute_result"
    },
    {
     "data": {
      "image/png": "[encoded data removed]",
      "text/plain": [
       "<Figure size 432x288 with 1 Axes>"
      ]
     },
     "metadata": {
      "needs_background": "light"
     },
     "output_type": "display_data"
    }
   ],
   "source": [
    "hypo_3.plot.scatter(x = 'year', y = 'width', title = 'Width vs. Year')"
   ]
  },
  {
   "cell_type": "markdown",
   "id": "fe211bd6",
   "metadata": {},
   "source": [
    "#### Basic histogram for each column"
   ]
  },
  {
   "cell_type": "code",
   "execution_count": 27,
   "id": "0e7142d8",
   "metadata": {},
   "outputs": [
    {
     "data": {
      "text/plain": [
       "array([[<AxesSubplot:title={'center':'length'}>]], dtype=object)"
      ]
     },
     "execution_count": 27,
     "metadata": {},
     "output_type": "execute_result"
    },
    {
     "data": {
      "image/png": "[encoded data removed]",
      "text/plain": [
       "<Figure size 432x288 with 1 Axes>"
      ]
     },
     "metadata": {
      "needs_background": "light"
     },
     "output_type": "display_data"
    }
   ],
   "source": [
    "hypo_3.hist(column = \"length\")"
   ]
  },
  {
   "cell_type": "code",
   "execution_count": 28,
   "id": "39d86f9c",
   "metadata": {},
   "outputs": [
    {
     "data": {
      "text/plain": [
       "array([[<AxesSubplot:title={'center':'width'}>]], dtype=object)"
      ]
     },
     "execution_count": 28,
     "metadata": {},
     "output_type": "execute_result"
    },
    {
     "data": {
      "image/png": "[encoded data removed]",
      "text/plain": [
       "<Figure size 432x288 with 1 Axes>"
      ]
     },
     "metadata": {
      "needs_background": "light"
     },
     "output_type": "display_data"
    }
   ],
   "source": [
    "hypo_3.hist(column = \"width\")"
   ]
  },
  {
   "cell_type": "markdown",
   "id": "fc8d3eca",
   "metadata": {},
   "source": [
    "## Hypothesis 5 \n",
    "### Tornados are lasting longer and traveling farther distances"
   ]
  },
  {
   "cell_type": "code",
   "execution_count": 29,
   "id": "c934f9d8",
   "metadata": {},
   "outputs": [],
   "source": [
    "hypo_5 = dd.filter(['length'])"
   ]
  },
  {
   "cell_type": "code",
   "execution_count": 30,
   "id": "68b1774d",
   "metadata": {},
   "outputs": [
    {
     "data": {
      "text/html": [
       "<div>\n",
       "<style scoped>\n",
       "    .dataframe tbody tr th:only-of-type {\n",
       "        vertical-align: middle;\n",
       "    }\n",
       "\n",
       "    .dataframe tbody tr th {\n",
       "        vertical-align: top;\n",
       "    }\n",
       "\n",
       "    .dataframe thead th {\n",
       "        text-align: right;\n",
       "    }\n",
       "</style>\n",
       "<table border=\"1\" class=\"dataframe\">\n",
       "  <thead>\n",
       "    <tr style=\"text-align: right;\">\n",
       "      <th></th>\n",
       "      <th>length</th>\n",
       "    </tr>\n",
       "  </thead>\n",
       "  <tbody>\n",
       "    <tr>\n",
       "      <th>count</th>\n",
       "      <td>60114.000000</td>\n",
       "    </tr>\n",
       "    <tr>\n",
       "      <th>mean</th>\n",
       "      <td>3.480720</td>\n",
       "    </tr>\n",
       "    <tr>\n",
       "      <th>std</th>\n",
       "      <td>8.519328</td>\n",
       "    </tr>\n",
       "    <tr>\n",
       "      <th>min</th>\n",
       "      <td>0.000000</td>\n",
       "    </tr>\n",
       "    <tr>\n",
       "      <th>25%</th>\n",
       "      <td>0.100000</td>\n",
       "    </tr>\n",
       "    <tr>\n",
       "      <th>50%</th>\n",
       "      <td>0.600000</td>\n",
       "    </tr>\n",
       "    <tr>\n",
       "      <th>75%</th>\n",
       "      <td>3.000000</td>\n",
       "    </tr>\n",
       "    <tr>\n",
       "      <th>max</th>\n",
       "      <td>234.700000</td>\n",
       "    </tr>\n",
       "  </tbody>\n",
       "</table>\n",
       "</div>"
      ],
      "text/plain": [
       "             length\n",
       "count  60114.000000\n",
       "mean       3.480720\n",
       "std        8.519328\n",
       "min        0.000000\n",
       "25%        0.100000\n",
       "50%        0.600000\n",
       "75%        3.000000\n",
       "max      234.700000"
      ]
     },
     "execution_count": 30,
     "metadata": {},
     "output_type": "execute_result"
    }
   ],
   "source": [
    "hypo_5.describe()"
   ]
  },
  {
   "cell_type": "code",
   "execution_count": null,
   "id": "b952e0e1",
   "metadata": {},
   "outputs": [],
   "source": []
  }
 ],
 "metadata": {
  "kernelspec": {
   "display_name": "Python 3 (ipykernel)",
   "language": "python",
   "name": "python3"
  },
  "language_info": {
   "codemirror_mode": {
    "name": "ipython",
    "version": 3
   },
   "file_extension": ".py",
   "mimetype": "text/x-python",
   "name": "python",
   "nbconvert_exporter": "python",
   "pygments_lexer": "ipython3",
   "version": "3.9.7"
  }
 },
 "nbformat": 4,
 "nbformat_minor": 5
}
